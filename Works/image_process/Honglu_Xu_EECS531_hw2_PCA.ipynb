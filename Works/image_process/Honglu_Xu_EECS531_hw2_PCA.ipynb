{
 "cells": [
  {
   "cell_type": "markdown",
   "metadata": {},
   "source": [
    "## Using PCA with MNIST"
   ]
  },
  {
   "cell_type": "markdown",
   "metadata": {},
   "source": [
    "PCA means Principal Component Analysis. The basic idea is, for a piece of data, we can use several components and scale values in a equation to describe that piece of data.\n",
    "$$\n",
    "\\begin{align}\n",
    "X = & a_1 s_1+a_2 s_2+ ... +a_L s_L+e\n",
    "\\end{align}\n",
    "$$\n",
    "And here, for a1 to aL, they are components of the X, and the e is the residual error.\n",
    "<br>\n",
    "Also, with using some eigenvectors and eigenvalues, we can decomposition the X to a low dimentional components."
   ]
  },
  {
   "cell_type": "markdown",
   "metadata": {},
   "source": [
    "Here, I will use the package of \"sklearn.decomposition\", it has the the function of \"PCA()\", which is for the decomposition."
   ]
  },
  {
   "cell_type": "code",
   "execution_count": 1,
   "metadata": {},
   "outputs": [],
   "source": [
    "from sklearn.decomposition import PCA\n",
    "import scipy\n",
    "from PIL import Image\n",
    "import numpy as np\n",
    "%matplotlib inline\n",
    "import matplotlib.pyplot as plt\n",
    "import math"
   ]
  },
  {
   "cell_type": "markdown",
   "metadata": {},
   "source": [
    "For the data set, I am using the MNIST. It contains many hand-written digits, and for each charater, from '0' to '9', it contains thousands of samples. Thus, we can use these samples to calculate the covariance."
   ]
  },
  {
   "cell_type": "code",
   "execution_count": 2,
   "metadata": {},
   "outputs": [],
   "source": [
    "#read the data\n",
    "def read_data(train_fname_img,TRAIN_SET_NUM):\n",
    "    train_img_list = []\n",
    "    with open(train_fname_img, 'rb') as tfimg:\n",
    "        tfimg.read(16)\n",
    "        for i in range(0,TRAIN_SET_NUM):\n",
    "            dataline = tfimg.read(784)\n",
    "            intline = list(dataline)\n",
    "            intline = np.array(intline)\n",
    "            train_img_list.append(np.copy(intline))\n",
    "    return train_img_list"
   ]
  },
  {
   "cell_type": "code",
   "execution_count": 3,
   "metadata": {},
   "outputs": [],
   "source": [
    "MNIST_data = read_data('train-images-idx3-ubyte',60000)\n",
    "MNIST_data = np.array(MNIST_data)"
   ]
  },
  {
   "cell_type": "code",
   "execution_count": 4,
   "metadata": {},
   "outputs": [
    {
     "name": "stdout",
     "output_type": "stream",
     "text": [
      "(60000, 784)\n"
     ]
    }
   ],
   "source": [
    "print(MNIST_data.shape)"
   ]
  },
  {
   "cell_type": "markdown",
   "metadata": {},
   "source": [
    "We see that it contains 60,000 smaples of digits, and for each sample, it is an image that contains 784 pixels, which is 28 by 28."
   ]
  },
  {
   "cell_type": "markdown",
   "metadata": {},
   "source": [
    "Now we can build a PCA model."
   ]
  },
  {
   "cell_type": "code",
   "execution_count": 5,
   "metadata": {},
   "outputs": [
    {
     "data": {
      "text/plain": [
       "PCA(copy=True, iterated_power='auto', n_components=None, random_state=None,\n",
       "  svd_solver='auto', tol=0.0, whiten=False)"
      ]
     },
     "execution_count": 5,
     "metadata": {},
     "output_type": "execute_result"
    }
   ],
   "source": [
    "pca = PCA()\n",
    "pca.fit(MNIST_data)"
   ]
  },
  {
   "cell_type": "markdown",
   "metadata": {},
   "source": [
    "With this package, we can easily calculate the variance and covariance."
   ]
  },
  {
   "cell_type": "code",
   "execution_count": 6,
   "metadata": {},
   "outputs": [
    {
     "data": {
      "text/plain": [
       "[<matplotlib.lines.Line2D at 0x246800b3240>]"
      ]
     },
     "execution_count": 6,
     "metadata": {},
     "output_type": "execute_result"
    },
    {
     "data": {
      "image/png": "[encoded data removed]",
      "text/plain": [
       "<matplotlib.figure.Figure at 0x246d93eab00>"
      ]
     },
     "metadata": {},
     "output_type": "display_data"
    }
   ],
   "source": [
    "plt.plot(np.cumsum(pca.explained_variance_ratio_))"
   ]
  },
  {
   "cell_type": "markdown",
   "metadata": {},
   "source": [
    "This is a plot for the variance ratio. From the plot, we notice that among 784 components, we can achieve the 90% accuracy by only using first 100 components, and if we use the first 400 components, it will achieve nearly 100%. Let's test it."
   ]
  },
  {
   "cell_type": "code",
   "execution_count": 7,
   "metadata": {},
   "outputs": [],
   "source": [
    "pca10 = PCA(10)\n",
    "components10 = pca10.fit_transform(MNIST_data)"
   ]
  },
  {
   "cell_type": "code",
   "execution_count": 8,
   "metadata": {},
   "outputs": [
    {
     "data": {
      "image/png": "[encoded data removed]",
      "text/plain": [
       "<matplotlib.figure.Figure at 0x246d93ea6d8>"
      ]
     },
     "metadata": {},
     "output_type": "display_data"
    },
    {
     "data": {
      "image/png": "[encoded data removed]",
      "text/plain": [
       "<matplotlib.figure.Figure at 0x2468116af98>"
      ]
     },
     "metadata": {},
     "output_type": "display_data"
    }
   ],
   "source": [
    "in_10_20 = (pca10.inverse_transform(components10))[20]\n",
    "imgplot = plt.imshow(MNIST_data[20].reshape(28,28),'gray')\n",
    "plt.show()\n",
    "imgplot = plt.imshow(in_10_20.reshape(28,28),'gray')\n",
    "plt.show()"
   ]
  },
  {
   "cell_type": "markdown",
   "metadata": {},
   "source": [
    "That is the result of using 10 components. From the original image, we know the answer is '4'. The result image do has a shape of '4', but it just far away from the original image."
   ]
  },
  {
   "cell_type": "code",
   "execution_count": 10,
   "metadata": {},
   "outputs": [
    {
     "name": "stdout",
     "output_type": "stream",
     "text": [
      "0.12380242504570481\n"
     ]
    }
   ],
   "source": [
    "diff_10_20 = abs(in_10_20 - MNIST_data[20])\n",
    "print(np.sum(diff_10_20)/(784*255))"
   ]
  },
  {
   "cell_type": "code",
   "execution_count": 11,
   "metadata": {},
   "outputs": [],
   "source": [
    "pca100 = PCA(100)\n",
    "components100 = pca100.fit_transform(MNIST_data)"
   ]
  },
  {
   "cell_type": "code",
   "execution_count": 12,
   "metadata": {},
   "outputs": [
    {
     "data": {
      "image/png": "[encoded data removed]",
      "text/plain": [
       "<matplotlib.figure.Figure at 0x246811946a0>"
      ]
     },
     "metadata": {},
     "output_type": "display_data"
    },
    {
     "data": {
      "image/png": "[encoded data removed]",
      "text/plain": [
       "<matplotlib.figure.Figure at 0x24681709b70>"
      ]
     },
     "metadata": {},
     "output_type": "display_data"
    }
   ],
   "source": [
    "in_100_20 = (pca100.inverse_transform(components100))[20]\n",
    "imgplot = plt.imshow(MNIST_data[20].reshape(28,28),'gray')\n",
    "plt.show()\n",
    "imgplot = plt.imshow(in_100_20.reshape(28,28),'gray')\n",
    "plt.show()"
   ]
  },
  {
   "cell_type": "markdown",
   "metadata": {},
   "source": [
    "Now for 100 components, we can see the basic shape for this digit clearly. Though some of the pixels did not calculate the gray scale right, and it appear a little darker than the original one, the basic components are correct for this digit."
   ]
  },
  {
   "cell_type": "code",
   "execution_count": 13,
   "metadata": {},
   "outputs": [
    {
     "name": "stdout",
     "output_type": "stream",
     "text": [
      "0.05765831408678664\n"
     ]
    }
   ],
   "source": [
    "diff_100_20 = abs(in_100_20 - MNIST_data[20])\n",
    "print(np.sum(diff_100_20)/(784*255))"
   ]
  },
  {
   "cell_type": "code",
   "execution_count": 14,
   "metadata": {},
   "outputs": [],
   "source": [
    "pca400 = PCA(400)\n",
    "components400 = pca400.fit_transform(MNIST_data)"
   ]
  },
  {
   "cell_type": "code",
   "execution_count": 15,
   "metadata": {},
   "outputs": [
    {
     "data": {
      "image/png": "[encoded data removed]",
      "text/plain": [
       "<matplotlib.figure.Figure at 0x2468172c048>"
      ]
     },
     "metadata": {},
     "output_type": "display_data"
    },
    {
     "data": {
      "image/png": "[encoded data removed]",
      "text/plain": [
       "<matplotlib.figure.Figure at 0x24681799128>"
      ]
     },
     "metadata": {},
     "output_type": "display_data"
    }
   ],
   "source": [
    "in_400_20 = (pca400.inverse_transform(components400))[20]\n",
    "imgplot = plt.imshow(MNIST_data[20].reshape(28,28),'gray')\n",
    "plt.show()\n",
    "imgplot = plt.imshow(in_400_20.reshape(28,28),'gray')\n",
    "plt.show()"
   ]
  },
  {
   "cell_type": "markdown",
   "metadata": {},
   "source": [
    "For 400 components, we see that they are basicly same to each other."
   ]
  },
  {
   "cell_type": "code",
   "execution_count": 16,
   "metadata": {
    "scrolled": true
   },
   "outputs": [
    {
     "name": "stdout",
     "output_type": "stream",
     "text": [
      "0.014176253869520412\n"
     ]
    }
   ],
   "source": [
    "diff_400_20 = abs(in_400_20 - MNIST_data[20])\n",
    "print(np.sum(diff_400_20)/(784*255))"
   ]
  },
  {
   "cell_type": "markdown",
   "metadata": {},
   "source": [
    "Now let's try to calculate the PCA step by step.\n",
    "<br>\n",
    "To achieve this, I followed a tutorial from the internet: http://sebastianraschka.com/Articles/2014_pca_step_by_step.html"
   ]
  },
  {
   "cell_type": "markdown",
   "metadata": {},
   "source": [
    "Firstly we need a mean vector, which here, is a 784 by 1 matrix that represents the mean value for one pixel for among all the samples."
   ]
  },
  {
   "cell_type": "code",
   "execution_count": 17,
   "metadata": {},
   "outputs": [
    {
     "name": "stdout",
     "output_type": "stream",
     "text": [
      "(784,)\n"
     ]
    }
   ],
   "source": [
    "MNIST_data_t = MNIST_data.T\n",
    "mean_vector = MNIST_data_t.mean(1)\n",
    "print(mean_vector.shape)"
   ]
  },
  {
   "cell_type": "markdown",
   "metadata": {},
   "source": [
    "From the mean vector, we can calculate the scatter matrix."
   ]
  },
  {
   "cell_type": "code",
   "execution_count": 18,
   "metadata": {},
   "outputs": [],
   "source": [
    "def cal_scatter(MNIST_data_t,mean_vector):\n",
    "    scatter_matrix = np.zeros((784,784))\n",
    "    for i in range(60000):\n",
    "        scatter_matrix += (MNIST_data_t[:,i].reshape(784,1) - mean_vector).dot((MNIST_data_t[:,i].reshape(784,1) - mean_vector).T)\n",
    "    print(scatter_matrix.shape)\n",
    "    return scatter_matrix"
   ]
  },
  {
   "cell_type": "markdown",
   "metadata": {},
   "source": [
    "But since it will take too long for the calculation, we can use the build-in function to calculate the covariance, too."
   ]
  },
  {
   "cell_type": "code",
   "execution_count": 19,
   "metadata": {
    "scrolled": true
   },
   "outputs": [
    {
     "name": "stdout",
     "output_type": "stream",
     "text": [
      "(784, 784)\n"
     ]
    }
   ],
   "source": [
    "cov_mat = np.cov(MNIST_data_t)\n",
    "print(cov_mat.shape)"
   ]
  },
  {
   "cell_type": "code",
   "execution_count": 20,
   "metadata": {},
   "outputs": [
    {
     "name": "stdout",
     "output_type": "stream",
     "text": [
      "7.590879154624733e-07\n"
     ]
    }
   ],
   "source": [
    "pca_covariance = pca.get_covariance()\n",
    "print(np.sum(abs(pca_covariance - cov_mat)))"
   ]
  },
  {
   "cell_type": "markdown",
   "metadata": {},
   "source": [
    "I checked the 'cov_mat' with the covariance from the PCA package, there are little difference between them."
   ]
  },
  {
   "cell_type": "markdown",
   "metadata": {},
   "source": [
    "Now, from the covariance, we can get eigenvectors and eigenvalues."
   ]
  },
  {
   "cell_type": "code",
   "execution_count": 21,
   "metadata": {},
   "outputs": [
    {
     "name": "stdout",
     "output_type": "stream",
     "text": [
      "(784,)\n",
      "(784, 784)\n"
     ]
    }
   ],
   "source": [
    "eig_val_cov, eig_vec_cov = np.linalg.eig(cov_mat)\n",
    "print(eig_val_cov.shape)\n",
    "print(eig_vec_cov.shape)"
   ]
  },
  {
   "cell_type": "code",
   "execution_count": 22,
   "metadata": {},
   "outputs": [
    {
     "name": "stderr",
     "output_type": "stream",
     "text": [
      "D:\\Anaconda\\lib\\site-packages\\numpy\\core\\numeric.py:492: ComplexWarning: Casting complex values to real discards the imaginary part\n",
      "  return array(a, dtype, copy=False, order=order)\n"
     ]
    },
    {
     "data": {
      "text/plain": [
       "[<matplotlib.lines.Line2D at 0x24681868da0>]"
      ]
     },
     "execution_count": 22,
     "metadata": {},
     "output_type": "execute_result"
    },
    {
     "data": {
      "image/png": "[encoded data removed]",
      "text/plain": [
       "<matplotlib.figure.Figure at 0x246817e6ba8>"
      ]
     },
     "metadata": {},
     "output_type": "display_data"
    }
   ],
   "source": [
    "plt.plot(eig_val_cov)"
   ]
  },
  {
   "cell_type": "markdown",
   "metadata": {},
   "source": [
    "I also checked the eigenvalues, it is already sorted, so we do not need to sort it again."
   ]
  },
  {
   "cell_type": "code",
   "execution_count": 23,
   "metadata": {},
   "outputs": [
    {
     "name": "stderr",
     "output_type": "stream",
     "text": [
      "D:\\Anaconda\\lib\\site-packages\\ipykernel_launcher.py:1: ComplexWarning: Casting complex values to real discards the imaginary part\n",
      "  \"\"\"Entry point for launching an IPython kernel.\n"
     ]
    },
    {
     "data": {
      "image/png": "[encoded data removed]",
      "text/plain": [
       "<matplotlib.figure.Figure at 0x24681850278>"
      ]
     },
     "metadata": {},
     "output_type": "display_data"
    },
    {
     "data": {
      "image/png": "[encoded data removed]",
      "text/plain": [
       "<matplotlib.figure.Figure at 0x2468191b080>"
      ]
     },
     "metadata": {},
     "output_type": "display_data"
    }
   ],
   "source": [
    "imgplot = plt.imshow(np.float32(eig_vec_cov[:,0]).reshape(28,28),'gray')\n",
    "plt.show()\n",
    "imgplot = plt.imshow((pca.components_)[0].reshape(28,28),'gray')\n",
    "plt.show()"
   ]
  },
  {
   "cell_type": "markdown",
   "metadata": {},
   "source": [
    "This is the plot for the first eigenvector, which is one of the components for the data set, tranformed to the image size. We see that it is almost like the components from the package, too."
   ]
  },
  {
   "cell_type": "markdown",
   "metadata": {},
   "source": [
    "Now, we can do the decomposition now.\n",
    "<br>\n",
    "For 10 components we can just use 10 'eig_vec_cov' (components) values."
   ]
  },
  {
   "cell_type": "code",
   "execution_count": 24,
   "metadata": {},
   "outputs": [
    {
     "name": "stdout",
     "output_type": "stream",
     "text": [
      "(10, 60000)\n"
     ]
    }
   ],
   "source": [
    "transformed10 = eig_vec_cov[:,0:10].T.dot(MNIST_data_t)\n",
    "print(transformed10.shape)"
   ]
  },
  {
   "cell_type": "markdown",
   "metadata": {},
   "source": [
    "Back-construction."
   ]
  },
  {
   "cell_type": "code",
   "execution_count": 25,
   "metadata": {},
   "outputs": [
    {
     "name": "stdout",
     "output_type": "stream",
     "text": [
      "(784,)\n"
     ]
    }
   ],
   "source": [
    "back_trans10 = (transformed10.T)[20].dot((eig_vec_cov[:,0:10]).T)\n",
    "print(back_trans10.shape)"
   ]
  },
  {
   "cell_type": "code",
   "execution_count": 26,
   "metadata": {},
   "outputs": [
    {
     "name": "stderr",
     "output_type": "stream",
     "text": [
      "D:\\Anaconda\\lib\\site-packages\\ipykernel_launcher.py:2: ComplexWarning: Casting complex values to real discards the imaginary part\n",
      "  \n"
     ]
    },
    {
     "data": {
      "image/png": "[encoded data removed]",
      "text/plain": [
       "<matplotlib.figure.Figure at 0x24681977080>"
      ]
     },
     "metadata": {},
     "output_type": "display_data"
    },
    {
     "data": {
      "image/png": "[encoded data removed]",
      "text/plain": [
       "<matplotlib.figure.Figure at 0x246819d7668>"
      ]
     },
     "metadata": {},
     "output_type": "display_data"
    }
   ],
   "source": [
    "back_trans10_ima = back_trans10.T.reshape(28,28)\n",
    "imgplot = plt.imshow(np.float32(back_trans10_ima),'gray')\n",
    "plt.show()\n",
    "imgplot = plt.imshow(in_10_20.reshape(28,28),'gray')\n",
    "plt.show()"
   ]
  },
  {
   "cell_type": "markdown",
   "metadata": {},
   "source": [
    "For a 10 components result, we see that both of them are not good."
   ]
  },
  {
   "cell_type": "markdown",
   "metadata": {},
   "source": [
    "100 components."
   ]
  },
  {
   "cell_type": "code",
   "execution_count": 27,
   "metadata": {},
   "outputs": [
    {
     "name": "stderr",
     "output_type": "stream",
     "text": [
      "D:\\Anaconda\\lib\\site-packages\\ipykernel_launcher.py:4: ComplexWarning: Casting complex values to real discards the imaginary part\n",
      "  after removing the cwd from sys.path.\n"
     ]
    },
    {
     "data": {
      "image/png": "[encoded data removed]",
      "text/plain": [
       "<matplotlib.figure.Figure at 0x246817df4e0>"
      ]
     },
     "metadata": {},
     "output_type": "display_data"
    },
    {
     "data": {
      "image/png": "[encoded data removed]",
      "text/plain": [
       "<matplotlib.figure.Figure at 0x24681ea1e80>"
      ]
     },
     "metadata": {},
     "output_type": "display_data"
    }
   ],
   "source": [
    "transformed100 = eig_vec_cov[:,0:100].T.dot(MNIST_data_t)\n",
    "back_trans100 = (transformed100.T)[20].dot((eig_vec_cov[:,0:100]).T)\n",
    "back_trans100_ima = back_trans100.T.reshape(28,28)\n",
    "imgplot = plt.imshow(np.float32(back_trans100_ima),'gray')\n",
    "plt.show()\n",
    "imgplot = plt.imshow(in_100_20.reshape(28,28),'gray')\n",
    "plt.show()"
   ]
  },
  {
   "cell_type": "markdown",
   "metadata": {},
   "source": [
    "400 components."
   ]
  },
  {
   "cell_type": "code",
   "execution_count": 28,
   "metadata": {},
   "outputs": [
    {
     "name": "stderr",
     "output_type": "stream",
     "text": [
      "D:\\Anaconda\\lib\\site-packages\\ipykernel_launcher.py:4: ComplexWarning: Casting complex values to real discards the imaginary part\n",
      "  after removing the cwd from sys.path.\n"
     ]
    },
    {
     "data": {
      "image/png": "[encoded data removed]",
      "text/plain": [
       "<matplotlib.figure.Figure at 0x246819f7a58>"
      ]
     },
     "metadata": {},
     "output_type": "display_data"
    },
    {
     "data": {
      "image/png": "[encoded data removed]",
      "text/plain": [
       "<matplotlib.figure.Figure at 0x2468192d710>"
      ]
     },
     "metadata": {},
     "output_type": "display_data"
    }
   ],
   "source": [
    "transformed400 = eig_vec_cov[:,0:400].T.dot(MNIST_data_t)\n",
    "back_trans400 = (transformed400.T)[20].dot((eig_vec_cov[:,0:400]).T)\n",
    "back_trans400_ima = back_trans400.T.reshape(28,28)\n",
    "imgplot = plt.imshow(np.float32(back_trans400_ima),'gray')\n",
    "plt.show()\n",
    "imgplot = plt.imshow(in_400_20.reshape(28,28),'gray')\n",
    "plt.show()"
   ]
  },
  {
   "cell_type": "markdown",
   "metadata": {},
   "source": [
    "Difference between all of them."
   ]
  },
  {
   "cell_type": "code",
   "execution_count": 29,
   "metadata": {},
   "outputs": [
    {
     "data": {
      "image/png": "[encoded data removed]",
      "text/plain": [
       "<matplotlib.figure.Figure at 0x246819e4780>"
      ]
     },
     "metadata": {},
     "output_type": "display_data"
    },
    {
     "data": {
      "image/png": "[encoded data removed]",
      "text/plain": [
       "<matplotlib.figure.Figure at 0x246817393c8>"
      ]
     },
     "metadata": {},
     "output_type": "display_data"
    },
    {
     "data": {
      "image/png": "[encoded data removed]",
      "text/plain": [
       "<matplotlib.figure.Figure at 0x246d941f860>"
      ]
     },
     "metadata": {},
     "output_type": "display_data"
    }
   ],
   "source": [
    "diff_pck_ima_400 = abs(MNIST_data[20] - in_400_20)\n",
    "imgplot = plt.imshow(diff_pck_ima_400.reshape(28,28),'gray')\n",
    "plt.show()\n",
    "diff_self_ima_400 = abs(MNIST_data[20] - back_trans400.real)\n",
    "imgplot = plt.imshow(diff_self_ima_400.reshape(28,28),'gray')\n",
    "plt.show()\n",
    "diff_self_pck_400 = abs(in_400_20 - back_trans400.real)\n",
    "imgplot = plt.imshow(diff_self_pck_400.reshape(28,28),'gray')\n",
    "plt.show()"
   ]
  },
  {
   "cell_type": "markdown",
   "metadata": {},
   "source": [
    "Now, we confirmed that this digit set can be re-constructed by 100 components, and with 400 components, it will get nearly perfect results."
   ]
  }
 ],
 "metadata": {
  "kernelspec": {
   "display_name": "Python 3",
   "language": "python",
   "name": "python3"
  },
  "language_info": {
   "codemirror_mode": {
    "name": "ipython",
    "version": 3
   },
   "file_extension": ".py",
   "mimetype": "text/x-python",
   "name": "python",
   "nbconvert_exporter": "python",
   "pygments_lexer": "ipython3",
   "version": "3.5.5"
  }
 },
 "nbformat": 4,
 "nbformat_minor": 2
}
