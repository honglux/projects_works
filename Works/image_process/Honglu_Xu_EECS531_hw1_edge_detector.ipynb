{
 "cells": [
  {
   "cell_type": "code",
   "execution_count": 1,
   "metadata": {},
   "outputs": [],
   "source": [
    "%reset -f"
   ]
  },
  {
   "cell_type": "code",
   "execution_count": 2,
   "metadata": {},
   "outputs": [],
   "source": [
    "import numpy as np\n",
    "from PIL import Image"
   ]
  },
  {
   "cell_type": "code",
   "execution_count": 3,
   "metadata": {},
   "outputs": [],
   "source": [
    "def read_image(image_name,method):\n",
    "    image = Image.open(image_name)\n",
    "    image = image.convert(method)\n",
    "    image_data = np.array(image)\n",
    "    image_data_row = len(image_data)\n",
    "    image_data_col = len(image_data[0])\n",
    "    return (image_data,image_data_row,image_data_col)"
   ]
  },
  {
   "cell_type": "markdown",
   "metadata": {},
   "source": [
    "Honglu Xu\n",
    "<br>\n",
    "EECS531\n",
    "<br>\n",
    "HW 1\n",
    "<br>\n",
    "Due 02/21/2018\n",
    "\n",
    "## 2. Edge detector"
   ]
  },
  {
   "cell_type": "markdown",
   "metadata": {},
   "source": [
    "In this problem, I will use a function in OpenCV. It will detect the edges aautomaticly and return the detected edges as an image."
   ]
  },
  {
   "cell_type": "code",
   "execution_count": 4,
   "metadata": {},
   "outputs": [],
   "source": [
    "import cv2\n",
    "# import matplotlib.pyplot as plt "
   ]
  },
  {
   "cell_type": "markdown",
   "metadata": {},
   "source": [
    "I will start from the materials we have, which is the 'charaters.png'."
   ]
  },
  {
   "cell_type": "code",
   "execution_count": 5,
   "metadata": {},
   "outputs": [],
   "source": [
    "image_data,_,_ = read_image('characters.png','L')\n",
    "\n",
    "edges = cv2.Canny(image_data,100,200)\n",
    "\n",
    "img = Image.fromarray(edges, 'L')\n",
    "# img.show()\n",
    "img.save('edge_test1.png')# read the image"
   ]
  },
  {
   "cell_type": "markdown",
   "metadata": {},
   "source": [
    "<img src='edge_test1.png'>"
   ]
  },
  {
   "cell_type": "markdown",
   "metadata": {},
   "source": [
    "We can see it worked very well.\n",
    "<br>\n",
    "The Canny detector is a very good detector, there is a reference about how it works: https://docs.opencv.org/2.4/doc/tutorials/imgproc/imgtrans/canny_detector/canny_detector.html\n",
    "<br>\n",
    "In general, it will firstly use the Gaussian filter, which we have already covered in the problem one, to get away the noise. \n",
    "<br>\n",
    "Then, it will use some edge filters to to detect the edges. The edge filters are similar to the Sobel filter."
   ]
  },
  {
   "cell_type": "code",
   "execution_count": 13,
   "metadata": {
    "scrolled": false
   },
   "outputs": [
    {
     "name": "stdout",
     "output_type": "stream",
     "text": [
      "G1:\n",
      " [[-1  0 -1]\n",
      " [-2  0 -2]\n",
      " [ 1  0  1]]\n",
      "G2:\n",
      " [[-1 -2 -1]\n",
      " [ 0  0  0]\n",
      " [ 1  2  1]]\n"
     ]
    }
   ],
   "source": [
    "G1 = np.array([[-1,0,-1],[-2,0,-2],[1,0,1]])\n",
    "print(\"G1:\\n\",G1)\n",
    "G2 = np.array([[-1,-2,-1],[0,0,0],[1,2,1]])\n",
    "print(\"G2:\\n\",G2)"
   ]
  },
  {
   "cell_type": "markdown",
   "metadata": {},
   "source": [
    "We can see that G1 is for the vertical edge detector, and G2 is for the horizontal edge detector.\n",
    "<br>\n",
    "Then, we can use G1 and G2 to calculat the edge direction.\n",
    "\\begin{equation*}\n",
    "\\theta=arctan({\\frac{G2}{G1}})\n",
    "\\end{equation*}\n",
    "And also the gradient\n",
    "\\begin{equation*}\n",
    "G=\\sqrt{G1^2+G2^2}\n",
    "\\end{equation*}\n",
    "By the document, the direction will be rounded to 0,45,90 or 135.\n",
    "<br>\n",
    "After that, it will apply the Non-maximum suppression and use to threasholds to determine whether this edge is the edge that the user wanted.\n",
    "<br>\n",
    "They upper threasholds and lower threaholds. The upper threashold is to confirm some obviously edges, and the lower threashold is to pick out some none edge pixels. If the gradient G is between the upper and lower threaholds, it will check whether it is connected to the \"obviously edges\", if it does, then this will be considered to be edges, too."
   ]
  },
  {
   "cell_type": "markdown",
   "metadata": {},
   "source": [
    "<hr>\n",
    "However, this image only contains the black and white elements, we can try some RGB images that see if that works.\n",
    "<br>\n",
    "I found an image from google search."
   ]
  },
  {
   "cell_type": "markdown",
   "metadata": {},
   "source": [
    "<img src='forest.jpg'>"
   ]
  },
  {
   "cell_type": "markdown",
   "metadata": {},
   "source": [
    "Let's turn it to Grayscale iamges so we can apply it to the filter."
   ]
  },
  {
   "cell_type": "code",
   "execution_count": 6,
   "metadata": {},
   "outputs": [],
   "source": [
    "image_data,_,_ = read_image('forest.jpg','L')\n",
    "\n",
    "img = Image.fromarray(image_data, 'L')\n",
    "img.save('forest_gray.png')"
   ]
  },
  {
   "cell_type": "markdown",
   "metadata": {},
   "source": [
    "<img src='forest_gray.png'>"
   ]
  },
  {
   "cell_type": "markdown",
   "metadata": {},
   "source": [
    "Now we can apply the function and see the results."
   ]
  },
  {
   "cell_type": "code",
   "execution_count": 7,
   "metadata": {},
   "outputs": [],
   "source": [
    "edges = cv2.Canny(image_data,100,200)\n",
    "\n",
    "img = Image.fromarray(edges, 'L')\n",
    "# img.show()\n",
    "img.save('forest_edge1.png')"
   ]
  },
  {
   "cell_type": "markdown",
   "metadata": {},
   "source": [
    "<img src='forest_edge1.png'>"
   ]
  },
  {
   "cell_type": "markdown",
   "metadata": {},
   "source": [
    "We can see this time, it surly covered too many edges. We need to adjust the threshold so only the main edges will be detected."
   ]
  },
  {
   "cell_type": "code",
   "execution_count": 8,
   "metadata": {},
   "outputs": [],
   "source": [
    "edges = cv2.Canny(image_data,600,700)\n",
    "\n",
    "img = Image.fromarray(edges, 'L')\n",
    "# img.show()\n",
    "img.save('forest_edge2.png')"
   ]
  },
  {
   "cell_type": "markdown",
   "metadata": {},
   "source": [
    "<img src='forest_edge2.png'>"
   ]
  },
  {
   "cell_type": "markdown",
   "metadata": {},
   "source": [
    "After saveral adjustments, I found some thresholds that are reasonable. We can see there are still too many edges that are not the main edges, but we can tell shapes of the elemensts in this image now."
   ]
  }
 ],
 "metadata": {
  "kernelspec": {
   "display_name": "Python 3",
   "language": "python",
   "name": "python3"
  },
  "language_info": {
   "codemirror_mode": {
    "name": "ipython",
    "version": 3
   },
   "file_extension": ".py",
   "mimetype": "text/x-python",
   "name": "python",
   "nbconvert_exporter": "python",
   "pygments_lexer": "ipython3",
   "version": "3.6.4"
  }
 },
 "nbformat": 4,
 "nbformat_minor": 2
}
