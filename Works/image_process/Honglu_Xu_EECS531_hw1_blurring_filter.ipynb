{
 "cells": [
  {
   "cell_type": "code",
   "execution_count": 1,
   "metadata": {
    "scrolled": true
   },
   "outputs": [],
   "source": [
    "%reset -f"
   ]
  },
  {
   "cell_type": "markdown",
   "metadata": {},
   "source": [
    "Honglu Xu\n",
    "<br>\n",
    "EECS531\n",
    "<br>\n",
    "HW 1\n",
    "<br>\n",
    "Due 02/21/2018\n",
    "\n",
    "# Filter implementation\n",
    "\n",
    "## 1. Blurring filter:\n",
    "\n",
    "Blurring filter is a filter to make the image looks more blurring, sometimes it is called smooth. For now, we have many ways to blur the image. We can blur the image either horizontally or vertically. We can use a matrix which only contains ones as the filter, or we can use the matrix that contains some gradients, such as the 'Gaussian filter', as the filter. In this experiment, we will try saveral ways to achieve the image blurring method."
   ]
  },
  {
   "cell_type": "markdown",
   "metadata": {},
   "source": [
    "Let's start with the easist method, 'box'. To achieve that, we need a filter that contains only ones. We can adjust the size starting from 3."
   ]
  },
  {
   "cell_type": "code",
   "execution_count": 2,
   "metadata": {},
   "outputs": [],
   "source": [
    "import numpy as np\n",
    "from PIL import Image"
   ]
  },
  {
   "cell_type": "code",
   "execution_count": 3,
   "metadata": {},
   "outputs": [
    {
     "name": "stdout",
     "output_type": "stream",
     "text": [
      "[[1 1 1]\n",
      " [1 1 1]\n",
      " [1 1 1]]\n"
     ]
    }
   ],
   "source": [
    "box_filter = np.ones((3,3),dtype=np.int)\n",
    "print(box_filter)"
   ]
  },
  {
   "cell_type": "markdown",
   "metadata": {},
   "source": [
    "Now we have the filter, we can implement a function to modifiy the image with this filter."
   ]
  },
  {
   "cell_type": "code",
   "execution_count": 4,
   "metadata": {},
   "outputs": [],
   "source": [
    "# read the image\n",
    "def read_image(image_name,method):\n",
    "    image = Image.open(image_name)\n",
    "    image = image.convert(method)\n",
    "    image_data = np.array(image)\n",
    "    image_data_row = len(image_data)\n",
    "    image_data_col = len(image_data[0])\n",
    "    return (image_data,image_data_row,image_data_col)"
   ]
  },
  {
   "cell_type": "code",
   "execution_count": 5,
   "metadata": {},
   "outputs": [],
   "source": [
    "# give the image some extra space so it can fill the filter\n",
    "def expend_image(image_information,myfilter):\n",
    "    image_data = image_information[0]\n",
    "    image_row = image_information[1]\n",
    "    iamge_col = image_information[2]\n",
    "    k = len(myfilter)\n",
    "    increase = k // 2\n",
    "    image_ex_data = np.zeros((image_row+increase*2,iamge_col+increase*2),dtype=np.uint8)\n",
    "#     print(len(image_ex_data),image_row,iamge_col)\n",
    "    image_ex_data[increase:(-increase),increase:(-increase)] = image_data\n",
    "    return (image_ex_data,image_row+increase*2,iamge_col+increase*2)\n",
    "    "
   ]
  },
  {
   "cell_type": "code",
   "execution_count": 6,
   "metadata": {},
   "outputs": [],
   "source": [
    "def filtering(image_name,myfilter):\n",
    "    image_information = read_image(image_name,'L')\n",
    "    image_row = image_information[1]\n",
    "    image_col = image_information[2]\n",
    "    ex_iamge_information = expend_image(image_information,myfilter)\n",
    "    ex_iamge_data = ex_iamge_information[0]\n",
    "    ex_image_row = ex_iamge_information[1]\n",
    "    ex_image_col = ex_iamge_information[2]\n",
    "    k = len(myfilter)\n",
    "    increase = k // 2\n",
    "    temp_matrix = np.zeros((k,k),dtype=np.uint8)\n",
    "    data_matrix = np.zeros((k,k),dtype=np.uint8)\n",
    "    result = 0\n",
    "    result_image_data = np.zeros((image_row,image_col),dtype=np.uint8)\n",
    "    kernal_sum = myfilter.sum()\n",
    "    for i in range(increase,ex_image_row-increase):\n",
    "        for j in range(increase,ex_image_col-increase):\n",
    "            data_matrix = ex_iamge_data[i-increase:i+increase+1,j-increase:j+increase+1]\n",
    "            temp_matrix = data_matrix*myfilter\n",
    "            result = temp_matrix.sum()\n",
    "            result = result*(1/kernal_sum)\n",
    "            result_image_data[i-increase,j-increase] = result\n",
    "    return (result_image_data,image_row,image_col)"
   ]
  },
  {
   "cell_type": "code",
   "execution_count": 7,
   "metadata": {},
   "outputs": [],
   "source": [
    "result_image = filtering('characters.png',box_filter)"
   ]
  },
  {
   "cell_type": "code",
   "execution_count": 8,
   "metadata": {},
   "outputs": [],
   "source": [
    "img = Image.fromarray(result_image[0], 'L')\n",
    "# img.show()\n",
    "img.save('box_filter3.png')"
   ]
  },
  {
   "cell_type": "markdown",
   "metadata": {},
   "source": [
    "Oringinal image:"
   ]
  },
  {
   "cell_type": "markdown",
   "metadata": {},
   "source": [
    "<img src=\"characters.png\">"
   ]
  },
  {
   "cell_type": "markdown",
   "metadata": {},
   "source": [
    "Result:"
   ]
  },
  {
   "cell_type": "markdown",
   "metadata": {},
   "source": [
    "<img src=\"box_filter3.png\">"
   ]
  },
  {
   "cell_type": "markdown",
   "metadata": {},
   "source": [
    "Let's try some larger filter. "
   ]
  },
  {
   "cell_type": "code",
   "execution_count": 9,
   "metadata": {},
   "outputs": [
    {
     "name": "stdout",
     "output_type": "stream",
     "text": [
      "[[1 1 1 1 1]\n",
      " [1 1 1 1 1]\n",
      " [1 1 1 1 1]\n",
      " [1 1 1 1 1]\n",
      " [1 1 1 1 1]]\n"
     ]
    }
   ],
   "source": [
    "box_filter5 = np.ones((5,5),dtype=np.int)\n",
    "print(box_filter5)"
   ]
  },
  {
   "cell_type": "code",
   "execution_count": 10,
   "metadata": {},
   "outputs": [],
   "source": [
    "result_image_box5 = filtering('characters.png',box_filter5)\n",
    "img = Image.fromarray(result_image_box5[0], 'L')\n",
    "# img.show()\n",
    "img.save('box_filter5.png')"
   ]
  },
  {
   "cell_type": "markdown",
   "metadata": {},
   "source": [
    "<img src=\"box_filter5.png\">"
   ]
  },
  {
   "cell_type": "markdown",
   "metadata": {},
   "source": [
    "We can see it worked very well, and, as the filter size increases the blurring effect increases.\n",
    "<hr>\n",
    "I will explain the theory now."
   ]
  },
  {
   "cell_type": "markdown",
   "metadata": {},
   "source": [
    "Let's say we have a image of size 3*3"
   ]
  },
  {
   "cell_type": "code",
   "execution_count": 11,
   "metadata": {},
   "outputs": [
    {
     "name": "stdout",
     "output_type": "stream",
     "text": [
      "[[54.88135039 71.51893664 60.27633761]\n",
      " [54.4883183  42.36547993 64.58941131]\n",
      " [43.75872113 89.17730008 96.36627605]]\n"
     ]
    }
   ],
   "source": [
    "np.random.seed(0)\n",
    "test_image = np.random.random((3,3))\n",
    "test_image = test_image*100\n",
    "print(test_image)"
   ]
  },
  {
   "cell_type": "markdown",
   "metadata": {},
   "source": [
    "And we have a filter of 3*3"
   ]
  },
  {
   "cell_type": "code",
   "execution_count": 12,
   "metadata": {},
   "outputs": [
    {
     "name": "stdout",
     "output_type": "stream",
     "text": [
      "[[1 1 1]\n",
      " [1 1 1]\n",
      " [1 1 1]]\n"
     ]
    }
   ],
   "source": [
    "print(box_filter)"
   ]
  },
  {
   "cell_type": "markdown",
   "metadata": {},
   "source": [
    "To let the filter go through all the elements in the image, we need to expand the image."
   ]
  },
  {
   "cell_type": "code",
   "execution_count": 13,
   "metadata": {},
   "outputs": [
    {
     "name": "stdout",
     "output_type": "stream",
     "text": [
      "[[ 0  0  0  0  0]\n",
      " [ 0 54 71 60  0]\n",
      " [ 0 54 42 64  0]\n",
      " [ 0 43 89 96  0]\n",
      " [ 0  0  0  0  0]]\n"
     ]
    }
   ],
   "source": [
    "test_image_ex = expend_image((test_image,3,3),box_filter)\n",
    "print(test_image_ex[0])"
   ]
  },
  {
   "cell_type": "markdown",
   "metadata": {},
   "source": [
    "We can see it is surrounded by 0s now.\n",
    "<br>\n",
    "Then, we got all the size 3*3 sub-matrix from the expanded image and mutiply the data with the filter. We got a new 3*3 matrix, and we can sum all the elements in that matirx and divided by 1/(k^2), which k is the size of the kernal, k=3 for this situation.\n",
    "<br>\n",
    "The first 3*3 matrix will be:"
   ]
  },
  {
   "cell_type": "code",
   "execution_count": 14,
   "metadata": {},
   "outputs": [
    {
     "name": "stdout",
     "output_type": "stream",
     "text": [
      "[[ 0  0  0]\n",
      " [ 0 54 71]\n",
      " [ 0 54 42]]\n"
     ]
    }
   ],
   "source": [
    "print(test_image_ex[0][0:3,0:3])"
   ]
  },
  {
   "cell_type": "markdown",
   "metadata": {},
   "source": [
    "And the result matrix will be:"
   ]
  },
  {
   "cell_type": "code",
   "execution_count": 15,
   "metadata": {},
   "outputs": [
    {
     "name": "stdout",
     "output_type": "stream",
     "text": [
      "[[ 0  0  0]\n",
      " [ 0 54 71]\n",
      " [ 0 54 42]]\n"
     ]
    }
   ],
   "source": [
    "tes_res = test_image_ex[0][0:3,0:3] * box_filter\n",
    "print(tes_res)"
   ]
  },
  {
   "cell_type": "markdown",
   "metadata": {},
   "source": [
    "Now, we sum the elements and divided it by the kernal sum."
   ]
  },
  {
   "cell_type": "code",
   "execution_count": 16,
   "metadata": {},
   "outputs": [
    {
     "data": {
      "text/plain": [
       "24.555555555555557"
      ]
     },
     "execution_count": 16,
     "metadata": {},
     "output_type": "execute_result"
    }
   ],
   "source": [
    "tes_res.sum()/(box_filter.sum())"
   ]
  },
  {
   "cell_type": "markdown",
   "metadata": {},
   "source": [
    "Finally, we can apply this result value back to where it should be. In this example the 54 will replaced by 25"
   ]
  },
  {
   "cell_type": "markdown",
   "metadata": {},
   "source": [
    "<hr>\n",
    "Now we have the functions we can try other filters.\n",
    "<br>\n",
    "Let's make a 5*5 'Gaussian' filter:"
   ]
  },
  {
   "cell_type": "code",
   "execution_count": 17,
   "metadata": {},
   "outputs": [
    {
     "name": "stdout",
     "output_type": "stream",
     "text": [
      "[[ 1  4  6  4  1]\n",
      " [ 2  8 12  8  2]\n",
      " [ 6 24 32 24  6]\n",
      " [ 2  8 12  8  2]\n",
      " [ 1  4  6  4  1]]\n"
     ]
    }
   ],
   "source": [
    "gaussian_filter5 = np.array([[1,4,6,4,1],[2,8,12,8,2],[6,24,32,24,6],[2,8,12,8,2],[1,4,6,4,1]])\n",
    "print(gaussian_filter5)"
   ]
  },
  {
   "cell_type": "markdown",
   "metadata": {},
   "source": [
    "And appley the filtering:"
   ]
  },
  {
   "cell_type": "code",
   "execution_count": 18,
   "metadata": {},
   "outputs": [],
   "source": [
    "result_image_gaussian5 = filtering('characters.png',gaussian_filter5)\n",
    "img = Image.fromarray(result_image_gaussian5[0], 'L')\n",
    "# img.show()\n",
    "img.save('gaussian_filter5.png')"
   ]
  },
  {
   "cell_type": "markdown",
   "metadata": {},
   "source": [
    "<img src='gaussian_filter5.png'>"
   ]
  },
  {
   "cell_type": "markdown",
   "metadata": {},
   "source": [
    "It seems well, too. Compared to the same size of the box filter, I think the box filter is more blurring, but in this filter, it blurring the iamge with some gradient, it is not mixing all the pixels together, but cutting the edges out."
   ]
  }
 ],
 "metadata": {
  "kernelspec": {
   "display_name": "Python 3",
   "language": "python",
   "name": "python3"
  },
  "language_info": {
   "codemirror_mode": {
    "name": "ipython",
    "version": 3
   },
   "file_extension": ".py",
   "mimetype": "text/x-python",
   "name": "python",
   "nbconvert_exporter": "python",
   "pygments_lexer": "ipython3",
   "version": "3.6.4"
  }
 },
 "nbformat": 4,
 "nbformat_minor": 2
}
