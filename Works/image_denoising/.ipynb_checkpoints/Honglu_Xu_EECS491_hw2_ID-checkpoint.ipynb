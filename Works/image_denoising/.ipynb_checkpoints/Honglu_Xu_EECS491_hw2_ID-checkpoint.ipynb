{
 "cells": [
  {
   "cell_type": "markdown",
   "metadata": {},
   "source": [
    "Honglu Xu\n",
    "<br>\n",
    "EECS 491\n",
    "<br>\n",
    "HW 2\n",
    "<br>\n",
    "Due 02/28/2018"
   ]
  },
  {
   "cell_type": "markdown",
   "metadata": {},
   "source": [
    "# Image Denoising"
   ]
  },
  {
   "cell_type": "markdown",
   "metadata": {},
   "source": [
    "Let's make some noised image first.\n",
    "<br>\n",
    "A very tricky image is a black image with some bits flipped. This is very good for testing."
   ]
  },
  {
   "cell_type": "markdown",
   "metadata": {},
   "source": [
    "This is my add_noise function:"
   ]
  },
  {
   "cell_type": "code",
   "execution_count": 1,
   "metadata": {},
   "outputs": [],
   "source": [
    "import numpy as np\n",
    "from PIL import Image\n",
    "import random"
   ]
  },
  {
   "cell_type": "code",
   "execution_count": 2,
   "metadata": {},
   "outputs": [],
   "source": [
    "#add noise\n",
    "def add_noise(image_information,p):\n",
    "    image_data,image_row,image_col = image_information\n",
    "    image_copy = np.copy(image_data)\n",
    "    for r in range(0,image_row):\n",
    "        for c in range(0,image_col):\n",
    "            if random.random() < p:\n",
    "                if image_copy[r][c] < 127:\n",
    "                    image_copy[r][c] = 255\n",
    "                else:\n",
    "                    image_copy[r][c] = 0\n",
    "    return (image_copy,image_row,image_col)"
   ]
  },
  {
   "cell_type": "code",
   "execution_count": 3,
   "metadata": {},
   "outputs": [],
   "source": [
    "# read the image\n",
    "def read_image(image_name,method):\n",
    "    image = Image.open(image_name)\n",
    "    image = image.convert(method)\n",
    "    image_data = np.array(image)\n",
    "    image_data_row = len(image_data)\n",
    "    image_data_col = len(image_data[0])\n",
    "    return (image_data,image_data_row,image_data_col)"
   ]
  },
  {
   "cell_type": "markdown",
   "metadata": {},
   "source": [
    "And we can create the noised image now."
   ]
  },
  {
   "cell_type": "code",
   "execution_count": 4,
   "metadata": {},
   "outputs": [],
   "source": [
    "black_image_info = read_image('EECS491_hw2_p2.png','L')\n",
    "black_noi_ima_info = add_noise(black_image_info,0.05)"
   ]
  },
  {
   "cell_type": "code",
   "execution_count": 5,
   "metadata": {},
   "outputs": [],
   "source": [
    "img = Image.fromarray(black_noi_ima_info[0], 'L')\n",
    "img.save('black_noi_ima_info.png')"
   ]
  },
  {
   "cell_type": "markdown",
   "metadata": {},
   "source": [
    "<img src='EECS491_hw2_p2.png'>\n",
    "<img src='black_noi_ima_info.png'>"
   ]
  },
  {
   "cell_type": "markdown",
   "metadata": {},
   "source": [
    "## Markov Random Field"
   ]
  },
  {
   "cell_type": "markdown",
   "metadata": {},
   "source": [
    "For markov random field, it bascially says that, we have xi and yi. yi are the pixels that we observe, and xi are the pixel values that the original image should have. \n",
    "<br>\n",
    "1. We can somehow trust the observed pixel. (xi,yi)\n",
    "<br>\n",
    "In our program, the probability to add the noise to one bit is 0.05, and we know from the commom sense that noises should be rare, if all bits are filpped, that it should not be called nosie.\n",
    "2. Bits related to each other. (xi,xj)\n",
    "<br>\n",
    "For a fine image, in most situation, bits that near to each other should be related to each other, so they can show a single object together.\n",
    "<br>\n",
    "3. And finally add bias (xi), we can create our energy function.\n",
    "<br>\n",
    "$$\n",
    "\\begin{align}\n",
    "E(X,Y) & = \\alpha \\sum_{i}xi - \\beta \\sum_{i,j}xixj - \\eta \\sum_{i}xiyi \n",
    "\\end{align}\n",
    "$$\n",
    "And it will lead to:\n",
    "$$\n",
    "\\begin{align}\n",
    "p(x, y) & = \\frac{1}{Z}exp(-E(x,y)\n",
    "\\end{align}\n",
    "$$\n",
    "Let's say we flipped a bit at k, and now we can calculate the deltaE here, and based on the demo, we can use the neighborhoods function N(x), which represents that whether x is connected to k, for it.\n",
    "$$\n",
    "\\begin{align}\n",
    "\\Delta E & = - 2 xk ( \\alpha - \\beta \\sum_{j} Nj(xk) - \\eta yk)\n",
    "\\end{align}\n",
    "$$"
   ]
  },
  {
   "cell_type": "code",
   "execution_count": 6,
   "metadata": {},
   "outputs": [],
   "source": [
    "def convert_bin(image_information):\n",
    "    image_data,image_row,image_col = image_information\n",
    "    image_copy = np.copy(image_data)\n",
    "    image_copy = np.int32(image_copy)\n",
    "    for i in range(0,image_row):\n",
    "        for j in range(0,image_col):\n",
    "#             print(image_copy[i][j],\"1\")\n",
    "            if image_copy[i][j] <= 127:\n",
    "                image_copy[i][j] = -1\n",
    "            else:\n",
    "                image_copy[i][j] = 1\n",
    "#             print(image_copy[i][j],\"2\")\n",
    "    return (image_copy,image_row,image_col)"
   ]
  },
  {
   "cell_type": "code",
   "execution_count": 7,
   "metadata": {},
   "outputs": [],
   "source": [
    "def convert_gray(image_information):\n",
    "    image_data,image_row,image_col = image_information\n",
    "    image_copy = np.copy(image_data)\n",
    "    for i in range(0,image_row):\n",
    "        for j in range(0,image_col):\n",
    "            if image_copy[i][j] == 1:\n",
    "                image_copy[i][j] = 255\n",
    "            else:\n",
    "                image_copy[i][j] = 0\n",
    "    image_copy = np.uint8(image_copy)\n",
    "    return (image_copy,image_row,image_col)"
   ]
  },
  {
   "cell_type": "code",
   "execution_count": 8,
   "metadata": {},
   "outputs": [],
   "source": [
    "def convert_halfhalf(image_information):\n",
    "    image_data,image_row,image_col = image_information\n",
    "    image_copy = np.copy(image_data)\n",
    "    image_copy = np.int32(image_copy)\n",
    "    for i in range(0,image_row):\n",
    "        for j in range(0,image_col):\n",
    "            image_copy[i][j] = image_copy[i][j]-127\n",
    "    return (image_copy,image_row,image_col)"
   ]
  },
  {
   "cell_type": "code",
   "execution_count": 9,
   "metadata": {},
   "outputs": [],
   "source": [
    "def convert_halfgray(image_information):\n",
    "    image_data,image_row,image_col = image_information\n",
    "    image_copy = np.copy(image_data)\n",
    "    for i in range(0,image_row):\n",
    "        for j in range(0,image_col):\n",
    "            image_copy[i][j] = image_copy[i][j]+127\n",
    "            if image_copy[i][j] > 255:\n",
    "                image_copy[i][j] = 255\n",
    "            if image_copy[i][j] < 0:\n",
    "                image_copy[i][j] = 0\n",
    "    image_copy = np.uint8(image_copy)\n",
    "    return (image_copy,image_row,image_col)"
   ]
  },
  {
   "cell_type": "code",
   "execution_count": 10,
   "metadata": {},
   "outputs": [],
   "source": [
    "def e_func(x,y):\n",
    "    energy_matrix = np.zeros(x.shape)\n",
    "    image_row = len(x)\n",
    "    image_col = len(x[0])\n",
    "    for i in range(0,image_row):\n",
    "        for j in range(0,image_col):\n",
    "            if i-1 >= 0:\n",
    "                energy_matrix[i][j] += x[i-1][j]\n",
    "            if j-1 >= 0:\n",
    "                energy_matrix[i][j] += x[i][j-1]\n",
    "            if i+1 < image_row:\n",
    "                energy_matrix[i][j] += x[i+1][j]\n",
    "            if j+1 < image_col:\n",
    "                energy_matrix[i][j] += x[i][j+1]\n",
    "    # calculate energy map\n",
    "    mapE = x * (1 - 1 * energy_matrix - 1 * y)\n",
    "    # get mean of matrix as energy\n",
    "    E = np.mean(mapE)\n",
    "    # calculate energy difference map\n",
    "    dE = -2 * mapE\n",
    "    \n",
    "    return E, dE\n",
    "    "
   ]
  },
  {
   "cell_type": "code",
   "execution_count": 11,
   "metadata": {},
   "outputs": [],
   "source": [
    "def de_noise(image_information):\n",
    "    image_data,image_row,image_col = image_information\n",
    "    image_copy = np.copy(image_data)\n",
    "    image_filp_copy = np.copy(image_copy)\n",
    "    [E,dE] = e_func(image_filp_copy,image_copy)\n",
    "    i=0\n",
    "    Etmp = E + 1\n",
    "    while Etmp > E:\n",
    "        Etmp = E\n",
    "        image_filp_copy[dE < 0] *= -1\n",
    "        [E, dE] = e_func(image_filp_copy, image_copy)\n",
    "        i += 1\n",
    "    return (image_filp_copy,image_row,image_col)"
   ]
  },
  {
   "cell_type": "markdown",
   "metadata": {},
   "source": [
    "For the denoising part, we will go calculate all deltaE for the noised image. If the deltaE for this pixel is negative, which means this pixel is highly likely to be a noised pixel, we flip it. Then we will go through the whole image again and agin until the E is not increasing any more. Then the whole image is sort of de-noised."
   ]
  },
  {
   "cell_type": "markdown",
   "metadata": {},
   "source": [
    "I changed the method for denoising a little bit. Previously, we will use the convert function to convert the gray scale to -1 and 1. However, if we do so for a gray scaled image, the image will lost a lot of information after convertion. I tried another way, that convert all the gray scaled pixels into float numbers between the -1, 1. In that way, we can keep stall keep the relatrion between all the pixels, and after we all done, we can convert the pixels back without lossing much information. However, this is still a very tedious way to achieve. My last version is, we can still use the oringinal gray scale to do the denoise the function. Since the correction method for de-niosing is just to flip the pixels by \"image_filp_copy[dE < 0] *= -1\" this function, we can use change the pixels from 0~255 to -127~127. In That way, we can still flip the pixels in a gray scale."
   ]
  },
  {
   "cell_type": "markdown",
   "metadata": {},
   "source": [
    "However, there are some cons for this method. If we got a pixel that very close to 127, let's say 125. It will be -2 after convertion, and if we flip it, it will be +2. Compared to the change from -127 to 127, the change for -2 is really small. Thus, it will still be a noise piexl after we flipped it, this is not efficient."
   ]
  },
  {
   "cell_type": "markdown",
   "metadata": {},
   "source": [
    "We can acctually compare those two methods, and see which one is better."
   ]
  },
  {
   "cell_type": "code",
   "execution_count": 12,
   "metadata": {},
   "outputs": [],
   "source": [
    "black_noi_half_info = convert_halfhalf(black_noi_ima_info)"
   ]
  },
  {
   "cell_type": "code",
   "execution_count": 13,
   "metadata": {},
   "outputs": [],
   "source": [
    "image_filp_half_info = de_noise(black_noi_half_info) "
   ]
  },
  {
   "cell_type": "code",
   "execution_count": 14,
   "metadata": {},
   "outputs": [],
   "source": [
    "image_flip_gray_info2 = convert_halfgray(image_filp_half_info)"
   ]
  },
  {
   "cell_type": "code",
   "execution_count": 15,
   "metadata": {},
   "outputs": [],
   "source": [
    "img = Image.fromarray(image_flip_gray_info2[0], 'L')\n",
    "img.save('image_flip_gray_info2.png')"
   ]
  },
  {
   "cell_type": "markdown",
   "metadata": {},
   "source": [
    "<img src='image_flip_gray_info2.png'>"
   ]
  },
  {
   "cell_type": "markdown",
   "metadata": {},
   "source": [
    "We can see it works very well, but since this is an image that filled with black pixels, it should be very easy to denoise. Let's try something else."
   ]
  },
  {
   "cell_type": "markdown",
   "metadata": {},
   "source": [
    "I used the happy world as in the demo."
   ]
  },
  {
   "cell_type": "code",
   "execution_count": 16,
   "metadata": {},
   "outputs": [],
   "source": [
    "happy_image_info = read_image('happyworld_big.png','L')\n",
    "happy_noi_ima_info = add_noise(happy_image_info,0.1)"
   ]
  },
  {
   "cell_type": "code",
   "execution_count": 17,
   "metadata": {},
   "outputs": [],
   "source": [
    "happy_noi_half_info = convert_halfhalf(happy_noi_ima_info)"
   ]
  },
  {
   "cell_type": "code",
   "execution_count": 18,
   "metadata": {},
   "outputs": [],
   "source": [
    "happy_filp_half_info = de_noise(happy_noi_half_info) \n",
    "happy_filp_gray_info2 = convert_halfgray(happy_filp_half_info)"
   ]
  },
  {
   "cell_type": "code",
   "execution_count": 19,
   "metadata": {},
   "outputs": [],
   "source": [
    "img = Image.fromarray(happy_filp_gray_info2[0], 'L')\n",
    "img.save('happy_filp_gray_info2.png')\n",
    "img = Image.fromarray(happy_noi_ima_info[0], 'L')\n",
    "img.save('happy_noi_ima_info.png')"
   ]
  },
  {
   "cell_type": "markdown",
   "metadata": {},
   "source": [
    "<img src='happy_noi_ima_info.png'>\n",
    "<img src='happy_filp_gray_info2.png'>"
   ]
  },
  {
   "cell_type": "code",
   "execution_count": 20,
   "metadata": {},
   "outputs": [],
   "source": [
    "char_image_info = read_image('characters.png','L')\n",
    "char_noi_ima_info = add_noise(char_image_info,0.1)\n",
    "char_noi_half_info = convert_halfhalf(char_noi_ima_info)\n",
    "char_filp_half_info = de_noise(char_noi_half_info) \n",
    "char_filp_gray_info2 = convert_halfgray(char_filp_half_info)"
   ]
  },
  {
   "cell_type": "code",
   "execution_count": 21,
   "metadata": {},
   "outputs": [],
   "source": [
    "img = Image.fromarray(char_filp_gray_info2[0], 'L')\n",
    "img.save('char_filp_gray_info2.png')\n",
    "img = Image.fromarray(char_noi_ima_info[0], 'L')\n",
    "img.save('char_noi_ima_info.png')"
   ]
  },
  {
   "cell_type": "markdown",
   "metadata": {},
   "source": [
    "<img src='char_noi_ima_info.png'>\n",
    "<img src='char_filp_gray_info2.png'>"
   ]
  },
  {
   "cell_type": "markdown",
   "metadata": {},
   "source": [
    "This is a nice de-noising result regarding to the fact that the oringinal image contains a lot of pixels that valued between 100 to 200, which we talked above that can't be de-noised efficiently."
   ]
  },
  {
   "cell_type": "markdown",
   "metadata": {},
   "source": [
    "Now let's see what kind of results that the binary de-noising funciton will give."
   ]
  },
  {
   "cell_type": "code",
   "execution_count": 22,
   "metadata": {},
   "outputs": [],
   "source": [
    "bla_noi_bin_info = convert_bin(black_noi_ima_info)\n",
    "image_filp_bin_info = de_noise(bla_noi_bin_info) \n",
    "image_filp_gray_info = convert_gray(image_filp_bin_info)\n",
    "img = Image.fromarray(image_filp_gray_info[0], 'L')\n",
    "img.save('image_filp_gray_info.png')"
   ]
  },
  {
   "cell_type": "markdown",
   "metadata": {},
   "source": [
    "<img src=\"image_filp_gray_info.png\">"
   ]
  },
  {
   "cell_type": "markdown",
   "metadata": {},
   "source": [
    "The black test works better than the last version. The reason should be that the original image is already \"binary\", and of course it won't last any information after convertion."
   ]
  },
  {
   "cell_type": "code",
   "execution_count": 23,
   "metadata": {},
   "outputs": [],
   "source": [
    "happy_noi_bin_info = convert_bin(happy_noi_ima_info)\n",
    "happy_filp_bin_info = de_noise(happy_noi_bin_info) \n",
    "happy_filp_gray_info = convert_gray(happy_filp_bin_info)\n",
    "img = Image.fromarray(happy_filp_gray_info[0], 'L')\n",
    "img.save('happy_filp_gray_info.png')"
   ]
  },
  {
   "cell_type": "markdown",
   "metadata": {},
   "source": [
    "<img src='happy_filp_gray_info2.png'>\n",
    "<img src='happy_filp_gray_info.png'>"
   ]
  },
  {
   "cell_type": "markdown",
   "metadata": {},
   "source": [
    "The upper image is from gray scaled version, and the down image is from binary version. We can tell that the gray scaled version works better. The gradient values seem to give more accuracy for the de-noise function."
   ]
  },
  {
   "cell_type": "code",
   "execution_count": 24,
   "metadata": {},
   "outputs": [],
   "source": [
    "char_noi_bin_info = convert_bin(char_noi_ima_info)\n",
    "char_filp_bin_info = de_noise(char_noi_bin_info) \n",
    "char_filp_gray_info = convert_gray(char_filp_bin_info)\n",
    "img = Image.fromarray(char_filp_gray_info[0], 'L')\n",
    "img.save('char_filp_gray_info.png')"
   ]
  },
  {
   "cell_type": "markdown",
   "metadata": {},
   "source": [
    "<img src='char_filp_gray_info2.png'>\n",
    "<img src='char_filp_gray_info.png'>"
   ]
  },
  {
   "cell_type": "markdown",
   "metadata": {},
   "source": [
    "Still, the upper image is from the gray scaled version, and the down iamge the from the binary version. We see that not only the de-noise function is not working very well for the binary function, the image lost a lot of information about the charaters this time, sicne the origainal image is in gray scale. Thus, it is better to use the gray scale versions."
   ]
  }
 ],
 "metadata": {
  "kernelspec": {
   "display_name": "Python 3",
   "language": "python",
   "name": "python3"
  },
  "language_info": {
   "codemirror_mode": {
    "name": "ipython",
    "version": 3
   },
   "file_extension": ".py",
   "mimetype": "text/x-python",
   "name": "python",
   "nbconvert_exporter": "python",
   "pygments_lexer": "ipython3",
   "version": "3.5.5"
  }
 },
 "nbformat": 4,
 "nbformat_minor": 2
}
